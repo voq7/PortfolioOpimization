{
 "cells": [
  {
   "cell_type": "markdown",
   "metadata": {},
   "source": [
    "# Compatison of green portfolios vs non-green based on the constituents of SP500 stokcs"
   ]
  },
  {
   "cell_type": "markdown",
   "metadata": {},
   "source": []
  },
  {
   "cell_type": "markdown",
   "metadata": {},
   "source": [
    "# General description of the expiriment"
   ]
  },
  {
   "cell_type": "code",
   "execution_count": null,
   "metadata": {},
   "outputs": [],
   "source": []
  },
  {
   "cell_type": "markdown",
   "metadata": {},
   "source": [
    "## For this expiriment i constructed portfolio using constituents of SP500 stocks. I rely on classical mean-variance portfolio optimization theory usnig historical mean returns of the stocks based on their daily adjusted closing prices and applying Ledoit Wolf shrinkage to covariance matrix. The stock prices ranges from 2014-01-01 till 2016-09-01.\n",
    "\n",
    "\n",
    "\n",
    "## I am also using The Robeco Total Sustainability Rank Envoronmental score to construct green portfolio: in addition to traditional constraints the weighted sum of environmental score of stocks included in the portfolio should be more or equal some seted treshold. The score ranges from 0 to 100: the higher the score - more environmetally friendly stock/portfolio is. \n",
    "\n",
    "\n",
    "\n",
    "## The environmetal score used for calculation is dated as September 2016.\n",
    "\n",
    "\n",
    "\n",
    "## This score rates stocks based on company responses to questionnaires regarding their practices across the  Environmental component of ESG dimension. RobecoSAM crafts and sends the questionnaires to companies in cooperation with Standard and Poor’s (S&P). RobecoSAM, part of the Robeco group, is “an investment specialist focused exclusively on sustainability investing” (Bloomberg Financial Terminal). Like the Bloomberg and Sustainalytics rankings, the Robeco scores make adjustments by industry. “The types and weights of individual questions and criteria are adjusted for each industry-specific questionnaire to reflect the materiality of specific sustainability themes within each industry” (Bloomberg Financial Terminal)."
   ]
  },
  {
   "cell_type": "code",
   "execution_count": null,
   "metadata": {},
   "outputs": [],
   "source": []
  },
  {
   "cell_type": "markdown",
   "metadata": {},
   "source": [
    "## The job was done using pyportfoliopt package which offers a lot of useful instruments for portfolio optimization"
   ]
  },
  {
   "cell_type": "code",
   "execution_count": null,
   "metadata": {},
   "outputs": [],
   "source": []
  },
  {
   "cell_type": "markdown",
   "metadata": {},
   "source": [
    "# Importing libraries"
   ]
  },
  {
   "cell_type": "code",
   "execution_count": 9,
   "metadata": {},
   "outputs": [],
   "source": [
    "#pip install pyportfolioopt"
   ]
  },
  {
   "cell_type": "code",
   "execution_count": 1,
   "metadata": {},
   "outputs": [],
   "source": [
    "import pandas as pd\n",
    "from pypfopt import EfficientFrontier\n",
    "from pypfopt import risk_models\n",
    "from pypfopt import expected_returns"
   ]
  },
  {
   "cell_type": "code",
   "execution_count": 4,
   "metadata": {},
   "outputs": [
    {
     "ename": "ModuleNotFoundError",
     "evalue": "No module named 'pandas_datareader'",
     "output_type": "error",
     "traceback": [
      "\u001b[0;31m---------------------------------------------------------------------------\u001b[0m",
      "\u001b[0;31mModuleNotFoundError\u001b[0m                       Traceback (most recent call last)",
      "Cell \u001b[0;32mIn[4], line 2\u001b[0m\n\u001b[1;32m      1\u001b[0m \u001b[38;5;28;01mimport\u001b[39;00m \u001b[38;5;21;01mdatetime\u001b[39;00m\n\u001b[0;32m----> 2\u001b[0m \u001b[38;5;28;01mimport\u001b[39;00m \u001b[38;5;21;01mpandas_datareader\u001b[39;00m \u001b[38;5;28;01mas\u001b[39;00m \u001b[38;5;21;01mweb\u001b[39;00m\n",
      "\u001b[0;31mModuleNotFoundError\u001b[0m: No module named 'pandas_datareader'"
     ]
    }
   ],
   "source": [
    "import datetime\n",
    "import pandas_datareader as web"
   ]
  },
  {
   "cell_type": "code",
   "execution_count": 2,
   "metadata": {},
   "outputs": [],
   "source": [
    "from pypfopt import EfficientSemivariance"
   ]
  },
  {
   "cell_type": "code",
   "execution_count": 6,
   "metadata": {},
   "outputs": [
    {
     "ename": "ModuleNotFoundError",
     "evalue": "No module named 'yfinance'",
     "output_type": "error",
     "traceback": [
      "\u001b[0;31m---------------------------------------------------------------------------\u001b[0m",
      "\u001b[0;31mModuleNotFoundError\u001b[0m                       Traceback (most recent call last)",
      "Cell \u001b[0;32mIn[6], line 1\u001b[0m\n\u001b[0;32m----> 1\u001b[0m \u001b[38;5;28;01mimport\u001b[39;00m \u001b[38;5;21;01myfinance\u001b[39;00m \u001b[38;5;28;01mas\u001b[39;00m \u001b[38;5;21;01myffrom\u001b[39;00m \n\u001b[1;32m      2\u001b[0m \u001b[38;5;28;01mfrom\u001b[39;00m \u001b[38;5;21;01mpypfopt\u001b[39;00m\u001b[38;5;21;01m.\u001b[39;00m\u001b[38;5;21;01mexpected_returns\u001b[39;00m \u001b[38;5;28;01mimport\u001b[39;00m mean_historical_return\n\u001b[1;32m      3\u001b[0m \u001b[38;5;28;01mfrom\u001b[39;00m \u001b[38;5;21;01mpypfopt\u001b[39;00m\u001b[38;5;21;01m.\u001b[39;00m\u001b[38;5;21;01mexpected_returns\u001b[39;00m \u001b[38;5;28;01mimport\u001b[39;00m ema_historical_return\n",
      "\u001b[0;31mModuleNotFoundError\u001b[0m: No module named 'yfinance'"
     ]
    }
   ],
   "source": [
    "import yfinance as yffrom \n",
    "from pypfopt.expected_returns import mean_historical_return\n",
    "from pypfopt.expected_returns import ema_historical_return\n",
    "from pypfopt.risk_models import CovarianceShrinkage"
   ]
  },
  {
   "cell_type": "markdown",
   "metadata": {},
   "source": [
    "# Getting and preparing the data"
   ]
  },
  {
   "cell_type": "code",
   "execution_count": 3,
   "metadata": {},
   "outputs": [],
   "source": [
    "#SP500"
   ]
  },
  {
   "cell_type": "code",
   "execution_count": 5,
   "metadata": {},
   "outputs": [],
   "source": [
    "sp500url='https://en.wikipedia.org/wiki/List_of_S%26P_500_companies'"
   ]
  },
  {
   "cell_type": "code",
   "execution_count": 6,
   "metadata": {},
   "outputs": [],
   "source": [
    "data_table=pd.read_html(sp500url)"
   ]
  },
  {
   "cell_type": "code",
   "execution_count": 7,
   "metadata": {},
   "outputs": [],
   "source": [
    "TABLE=data_table[0]"
   ]
  },
  {
   "cell_type": "code",
   "execution_count": 8,
   "metadata": {
    "scrolled": true
   },
   "outputs": [
    {
     "data": {
      "text/html": [
       "<div>\n",
       "<style scoped>\n",
       "    .dataframe tbody tr th:only-of-type {\n",
       "        vertical-align: middle;\n",
       "    }\n",
       "\n",
       "    .dataframe tbody tr th {\n",
       "        vertical-align: top;\n",
       "    }\n",
       "\n",
       "    .dataframe thead th {\n",
       "        text-align: right;\n",
       "    }\n",
       "</style>\n",
       "<table border=\"1\" class=\"dataframe\">\n",
       "  <thead>\n",
       "    <tr style=\"text-align: right;\">\n",
       "      <th></th>\n",
       "      <th>Symbol</th>\n",
       "      <th>Security</th>\n",
       "      <th>GICS Sector</th>\n",
       "      <th>GICS Sub-Industry</th>\n",
       "      <th>Headquarters Location</th>\n",
       "      <th>Date added</th>\n",
       "      <th>CIK</th>\n",
       "      <th>Founded</th>\n",
       "    </tr>\n",
       "  </thead>\n",
       "  <tbody>\n",
       "    <tr>\n",
       "      <th>0</th>\n",
       "      <td>MMM</td>\n",
       "      <td>3M</td>\n",
       "      <td>Industrials</td>\n",
       "      <td>Industrial Conglomerates</td>\n",
       "      <td>Saint Paul, Minnesota</td>\n",
       "      <td>1957-03-04</td>\n",
       "      <td>66740</td>\n",
       "      <td>1902</td>\n",
       "    </tr>\n",
       "    <tr>\n",
       "      <th>1</th>\n",
       "      <td>AOS</td>\n",
       "      <td>A. O. Smith</td>\n",
       "      <td>Industrials</td>\n",
       "      <td>Building Products</td>\n",
       "      <td>Milwaukee, Wisconsin</td>\n",
       "      <td>2017-07-26</td>\n",
       "      <td>91142</td>\n",
       "      <td>1916</td>\n",
       "    </tr>\n",
       "    <tr>\n",
       "      <th>2</th>\n",
       "      <td>ABT</td>\n",
       "      <td>Abbott</td>\n",
       "      <td>Health Care</td>\n",
       "      <td>Health Care Equipment</td>\n",
       "      <td>North Chicago, Illinois</td>\n",
       "      <td>1957-03-04</td>\n",
       "      <td>1800</td>\n",
       "      <td>1888</td>\n",
       "    </tr>\n",
       "    <tr>\n",
       "      <th>3</th>\n",
       "      <td>ABBV</td>\n",
       "      <td>AbbVie</td>\n",
       "      <td>Health Care</td>\n",
       "      <td>Pharmaceuticals</td>\n",
       "      <td>North Chicago, Illinois</td>\n",
       "      <td>2012-12-31</td>\n",
       "      <td>1551152</td>\n",
       "      <td>2013 (1888)</td>\n",
       "    </tr>\n",
       "    <tr>\n",
       "      <th>4</th>\n",
       "      <td>ACN</td>\n",
       "      <td>Accenture</td>\n",
       "      <td>Information Technology</td>\n",
       "      <td>IT Consulting &amp; Other Services</td>\n",
       "      <td>Dublin, Ireland</td>\n",
       "      <td>2011-07-06</td>\n",
       "      <td>1467373</td>\n",
       "      <td>1989</td>\n",
       "    </tr>\n",
       "    <tr>\n",
       "      <th>...</th>\n",
       "      <td>...</td>\n",
       "      <td>...</td>\n",
       "      <td>...</td>\n",
       "      <td>...</td>\n",
       "      <td>...</td>\n",
       "      <td>...</td>\n",
       "      <td>...</td>\n",
       "      <td>...</td>\n",
       "    </tr>\n",
       "    <tr>\n",
       "      <th>498</th>\n",
       "      <td>YUM</td>\n",
       "      <td>Yum! Brands</td>\n",
       "      <td>Consumer Discretionary</td>\n",
       "      <td>Restaurants</td>\n",
       "      <td>Louisville, Kentucky</td>\n",
       "      <td>1997-10-06</td>\n",
       "      <td>1041061</td>\n",
       "      <td>1997</td>\n",
       "    </tr>\n",
       "    <tr>\n",
       "      <th>499</th>\n",
       "      <td>ZBRA</td>\n",
       "      <td>Zebra Technologies</td>\n",
       "      <td>Information Technology</td>\n",
       "      <td>Electronic Equipment &amp; Instruments</td>\n",
       "      <td>Lincolnshire, Illinois</td>\n",
       "      <td>2019-12-23</td>\n",
       "      <td>877212</td>\n",
       "      <td>1969</td>\n",
       "    </tr>\n",
       "    <tr>\n",
       "      <th>500</th>\n",
       "      <td>ZBH</td>\n",
       "      <td>Zimmer Biomet</td>\n",
       "      <td>Health Care</td>\n",
       "      <td>Health Care Equipment</td>\n",
       "      <td>Warsaw, Indiana</td>\n",
       "      <td>2001-08-07</td>\n",
       "      <td>1136869</td>\n",
       "      <td>1927</td>\n",
       "    </tr>\n",
       "    <tr>\n",
       "      <th>501</th>\n",
       "      <td>ZION</td>\n",
       "      <td>Zions Bancorporation</td>\n",
       "      <td>Financials</td>\n",
       "      <td>Regional Banks</td>\n",
       "      <td>Salt Lake City, Utah</td>\n",
       "      <td>2001-06-22</td>\n",
       "      <td>109380</td>\n",
       "      <td>1873</td>\n",
       "    </tr>\n",
       "    <tr>\n",
       "      <th>502</th>\n",
       "      <td>ZTS</td>\n",
       "      <td>Zoetis</td>\n",
       "      <td>Health Care</td>\n",
       "      <td>Pharmaceuticals</td>\n",
       "      <td>Parsippany, New Jersey</td>\n",
       "      <td>2013-06-21</td>\n",
       "      <td>1555280</td>\n",
       "      <td>1952</td>\n",
       "    </tr>\n",
       "  </tbody>\n",
       "</table>\n",
       "<p>503 rows × 8 columns</p>\n",
       "</div>"
      ],
      "text/plain": [
       "    Symbol              Security             GICS Sector  \\\n",
       "0      MMM                    3M             Industrials   \n",
       "1      AOS           A. O. Smith             Industrials   \n",
       "2      ABT                Abbott             Health Care   \n",
       "3     ABBV                AbbVie             Health Care   \n",
       "4      ACN             Accenture  Information Technology   \n",
       "..     ...                   ...                     ...   \n",
       "498    YUM           Yum! Brands  Consumer Discretionary   \n",
       "499   ZBRA    Zebra Technologies  Information Technology   \n",
       "500    ZBH         Zimmer Biomet             Health Care   \n",
       "501   ZION  Zions Bancorporation              Financials   \n",
       "502    ZTS                Zoetis             Health Care   \n",
       "\n",
       "                      GICS Sub-Industry    Headquarters Location  Date added  \\\n",
       "0              Industrial Conglomerates    Saint Paul, Minnesota  1957-03-04   \n",
       "1                     Building Products     Milwaukee, Wisconsin  2017-07-26   \n",
       "2                 Health Care Equipment  North Chicago, Illinois  1957-03-04   \n",
       "3                       Pharmaceuticals  North Chicago, Illinois  2012-12-31   \n",
       "4        IT Consulting & Other Services          Dublin, Ireland  2011-07-06   \n",
       "..                                  ...                      ...         ...   \n",
       "498                         Restaurants     Louisville, Kentucky  1997-10-06   \n",
       "499  Electronic Equipment & Instruments   Lincolnshire, Illinois  2019-12-23   \n",
       "500               Health Care Equipment          Warsaw, Indiana  2001-08-07   \n",
       "501                      Regional Banks     Salt Lake City, Utah  2001-06-22   \n",
       "502                     Pharmaceuticals   Parsippany, New Jersey  2013-06-21   \n",
       "\n",
       "         CIK      Founded  \n",
       "0      66740         1902  \n",
       "1      91142         1916  \n",
       "2       1800         1888  \n",
       "3    1551152  2013 (1888)  \n",
       "4    1467373         1989  \n",
       "..       ...          ...  \n",
       "498  1041061         1997  \n",
       "499   877212         1969  \n",
       "500  1136869         1927  \n",
       "501   109380         1873  \n",
       "502  1555280         1952  \n",
       "\n",
       "[503 rows x 8 columns]"
      ]
     },
     "execution_count": 8,
     "metadata": {},
     "output_type": "execute_result"
    }
   ],
   "source": [
    "TABLE"
   ]
  },
  {
   "cell_type": "code",
   "execution_count": 9,
   "metadata": {},
   "outputs": [],
   "source": [
    "# Getting data for ESG scores"
   ]
  },
  {
   "cell_type": "code",
   "execution_count": 10,
   "metadata": {},
   "outputs": [],
   "source": [
    "data_esg=pd.read_excel('/Users/vladimirant/Downloads/ESG_Score.xlsx')"
   ]
  },
  {
   "cell_type": "code",
   "execution_count": 11,
   "metadata": {},
   "outputs": [
    {
     "data": {
      "text/html": [
       "<div>\n",
       "<style scoped>\n",
       "    .dataframe tbody tr th:only-of-type {\n",
       "        vertical-align: middle;\n",
       "    }\n",
       "\n",
       "    .dataframe tbody tr th {\n",
       "        vertical-align: top;\n",
       "    }\n",
       "\n",
       "    .dataframe thead th {\n",
       "        text-align: right;\n",
       "    }\n",
       "</style>\n",
       "<table border=\"1\" class=\"dataframe\">\n",
       "  <thead>\n",
       "    <tr style=\"text-align: right;\">\n",
       "      <th></th>\n",
       "      <th>E_score</th>\n",
       "    </tr>\n",
       "  </thead>\n",
       "  <tbody>\n",
       "    <tr>\n",
       "      <th>count</th>\n",
       "      <td>419.000000</td>\n",
       "    </tr>\n",
       "    <tr>\n",
       "      <th>mean</th>\n",
       "      <td>44.040573</td>\n",
       "    </tr>\n",
       "    <tr>\n",
       "      <th>std</th>\n",
       "      <td>26.275332</td>\n",
       "    </tr>\n",
       "    <tr>\n",
       "      <th>min</th>\n",
       "      <td>0.000000</td>\n",
       "    </tr>\n",
       "    <tr>\n",
       "      <th>25%</th>\n",
       "      <td>22.000000</td>\n",
       "    </tr>\n",
       "    <tr>\n",
       "      <th>50%</th>\n",
       "      <td>42.000000</td>\n",
       "    </tr>\n",
       "    <tr>\n",
       "      <th>75%</th>\n",
       "      <td>65.000000</td>\n",
       "    </tr>\n",
       "    <tr>\n",
       "      <th>max</th>\n",
       "      <td>100.000000</td>\n",
       "    </tr>\n",
       "  </tbody>\n",
       "</table>\n",
       "</div>"
      ],
      "text/plain": [
       "          E_score\n",
       "count  419.000000\n",
       "mean    44.040573\n",
       "std     26.275332\n",
       "min      0.000000\n",
       "25%     22.000000\n",
       "50%     42.000000\n",
       "75%     65.000000\n",
       "max    100.000000"
      ]
     },
     "execution_count": 11,
     "metadata": {},
     "output_type": "execute_result"
    }
   ],
   "source": [
    "data_esg.describe()"
   ]
  },
  {
   "cell_type": "code",
   "execution_count": 12,
   "metadata": {},
   "outputs": [],
   "source": [
    "# Merging data: TAble + ESG scores. We left with only with tickers that have ESG scores.\n",
    "# Tichers without ESG scores are ecluded. 375 stocks left in our portfolio universe."
   ]
  },
  {
   "cell_type": "code",
   "execution_count": 13,
   "metadata": {},
   "outputs": [],
   "source": [
    "merged_data=pd.merge(TABLE, data_esg, on='Symbol')"
   ]
  },
  {
   "cell_type": "code",
   "execution_count": 14,
   "metadata": {},
   "outputs": [],
   "source": [
    "Tickers=merged_data['Symbol'].tolist()"
   ]
  },
  {
   "cell_type": "code",
   "execution_count": 15,
   "metadata": {},
   "outputs": [
    {
     "data": {
      "text/plain": [
       "['MMM',\n",
       " 'ABT',\n",
       " 'ABBV',\n",
       " 'ACN',\n",
       " 'ATVI',\n",
       " 'ADM',\n",
       " 'ADBE',\n",
       " 'ADP',\n",
       " 'AAP',\n",
       " 'AES',\n",
       " 'AFL',\n",
       " 'A',\n",
       " 'APD',\n",
       " 'AKAM',\n",
       " 'ALK',\n",
       " 'ALB',\n",
       " 'ALLE',\n",
       " 'LNT',\n",
       " 'ALL',\n",
       " 'GOOGL',\n",
       " 'GOOG',\n",
       " 'MO',\n",
       " 'AMZN',\n",
       " 'AMD',\n",
       " 'AEE',\n",
       " 'AAL',\n",
       " 'AEP',\n",
       " 'AXP',\n",
       " 'AIG',\n",
       " 'AMT',\n",
       " 'AWK',\n",
       " 'AMP',\n",
       " 'ABC',\n",
       " 'AME',\n",
       " 'AMGN',\n",
       " 'APH',\n",
       " 'ADI',\n",
       " 'ANSS',\n",
       " 'AAPL',\n",
       " 'AAPL',\n",
       " 'AMAT',\n",
       " 'APTV',\n",
       " 'AJG',\n",
       " 'AIZ',\n",
       " 'T',\n",
       " 'ATO',\n",
       " 'ADSK',\n",
       " 'AZO',\n",
       " 'AVB',\n",
       " 'AVY',\n",
       " 'BAC',\n",
       " 'BAX',\n",
       " 'BDX',\n",
       " 'BBY',\n",
       " 'BIIB',\n",
       " 'BLK',\n",
       " 'BK',\n",
       " 'BA',\n",
       " 'BKNG',\n",
       " 'BWA',\n",
       " 'BXP',\n",
       " 'BSX',\n",
       " 'BMY',\n",
       " 'CHRW',\n",
       " 'CPB',\n",
       " 'COF',\n",
       " 'CAH',\n",
       " 'KMX',\n",
       " 'CCL',\n",
       " 'CAT',\n",
       " 'CBRE',\n",
       " 'CE',\n",
       " 'CNC',\n",
       " 'CNP',\n",
       " 'CF',\n",
       " 'SCHW',\n",
       " 'CVX',\n",
       " 'CMG',\n",
       " 'CB',\n",
       " 'CHD',\n",
       " 'CINF',\n",
       " 'CTAS',\n",
       " 'C',\n",
       " 'CFG',\n",
       " 'CLX',\n",
       " 'CME',\n",
       " 'CMS',\n",
       " 'KO',\n",
       " 'CTSH',\n",
       " 'CL',\n",
       " 'CMCSA',\n",
       " 'CMA',\n",
       " 'CAG',\n",
       " 'COP',\n",
       " 'ED',\n",
       " 'STZ',\n",
       " 'GLW',\n",
       " 'COST',\n",
       " 'CCI',\n",
       " 'CSX',\n",
       " 'CMI',\n",
       " 'CVS',\n",
       " 'DHI',\n",
       " 'DHR',\n",
       " 'DRI',\n",
       " 'DVA',\n",
       " 'DE',\n",
       " 'DAL',\n",
       " 'XRAY',\n",
       " 'DVN',\n",
       " 'DLR',\n",
       " 'DFS',\n",
       " 'DISH',\n",
       " 'DG',\n",
       " 'DLTR',\n",
       " 'D',\n",
       " 'DOV',\n",
       " 'DTE',\n",
       " 'DUK',\n",
       " 'EMN',\n",
       " 'ETN',\n",
       " 'EBAY',\n",
       " 'ECL',\n",
       " 'EIX',\n",
       " 'EW',\n",
       " 'EA',\n",
       " 'LLY',\n",
       " 'EMR',\n",
       " 'ETR',\n",
       " 'EOG',\n",
       " 'EFX',\n",
       " 'EQIX',\n",
       " 'EQR',\n",
       " 'ESS',\n",
       " 'EL',\n",
       " 'RE',\n",
       " 'ES',\n",
       " 'EXC',\n",
       " 'EXPE',\n",
       " 'EXPD',\n",
       " 'EXR',\n",
       " 'XOM',\n",
       " 'FFIV',\n",
       " 'FAST',\n",
       " 'FRT',\n",
       " 'FDX',\n",
       " 'FITB',\n",
       " 'FE',\n",
       " 'FIS',\n",
       " 'FISV',\n",
       " 'FLT',\n",
       " 'FMC',\n",
       " 'F',\n",
       " 'BEN',\n",
       " 'FCX',\n",
       " 'GRMN',\n",
       " 'GD',\n",
       " 'GE',\n",
       " 'GIS',\n",
       " 'GM',\n",
       " 'GPC',\n",
       " 'GILD',\n",
       " 'GL',\n",
       " 'GPN',\n",
       " 'GS',\n",
       " 'HAL',\n",
       " 'HIG',\n",
       " 'HAS',\n",
       " 'HCA',\n",
       " 'HSIC',\n",
       " 'HSY',\n",
       " 'HES',\n",
       " 'HPE',\n",
       " 'HLT',\n",
       " 'HOLX',\n",
       " 'HD',\n",
       " 'HON',\n",
       " 'HRL',\n",
       " 'HST',\n",
       " 'HPQ',\n",
       " 'HUM',\n",
       " 'HBAN',\n",
       " 'IBM',\n",
       " 'ITW',\n",
       " 'ILMN',\n",
       " 'INTC',\n",
       " 'ICE',\n",
       " 'IFF',\n",
       " 'IP',\n",
       " 'IPG',\n",
       " 'INTU',\n",
       " 'ISRG',\n",
       " 'IVZ',\n",
       " 'IQV',\n",
       " 'IRM',\n",
       " 'JBHT',\n",
       " 'JNJ',\n",
       " 'JCI',\n",
       " 'JPM',\n",
       " 'JNPR',\n",
       " 'K',\n",
       " 'KEY',\n",
       " 'KEYS',\n",
       " 'KMB',\n",
       " 'KMI',\n",
       " 'KLAC',\n",
       " 'KHC',\n",
       " 'KR',\n",
       " 'LHX',\n",
       " 'LH',\n",
       " 'LRCX',\n",
       " 'LVS',\n",
       " 'LEN',\n",
       " 'LNC',\n",
       " 'LKQ',\n",
       " 'LMT',\n",
       " 'L',\n",
       " 'LOW',\n",
       " 'LYB',\n",
       " 'MTB',\n",
       " 'MRO',\n",
       " 'MPC',\n",
       " 'MKTX',\n",
       " 'MAR',\n",
       " 'MMC',\n",
       " 'MLM',\n",
       " 'MAS',\n",
       " 'MA',\n",
       " 'MKC',\n",
       " 'MCD',\n",
       " 'MCK',\n",
       " 'MDT',\n",
       " 'MRK',\n",
       " 'MET',\n",
       " 'MCHP',\n",
       " 'MU',\n",
       " 'MSFT',\n",
       " 'MHK',\n",
       " 'TAP',\n",
       " 'MDLZ',\n",
       " 'MNST',\n",
       " 'MCO',\n",
       " 'MS',\n",
       " 'MOS',\n",
       " 'MSI',\n",
       " 'NDAQ',\n",
       " 'NTAP',\n",
       " 'NFLX',\n",
       " 'NWL',\n",
       " 'NEM',\n",
       " 'NWSA',\n",
       " 'NWS',\n",
       " 'NEE',\n",
       " 'NKE',\n",
       " 'NI',\n",
       " 'NSC',\n",
       " 'NTRS',\n",
       " 'NOC',\n",
       " 'NCLH',\n",
       " 'NRG',\n",
       " 'NUE',\n",
       " 'NVDA',\n",
       " 'ORLY',\n",
       " 'OXY',\n",
       " 'OMC',\n",
       " 'OKE',\n",
       " 'ORCL',\n",
       " 'PCAR',\n",
       " 'PH',\n",
       " 'PAYX',\n",
       " 'PYPL',\n",
       " 'PNR',\n",
       " 'PEP',\n",
       " 'PFE',\n",
       " 'PM',\n",
       " 'PSX',\n",
       " 'PNW',\n",
       " 'PXD',\n",
       " 'PNC',\n",
       " 'PPG',\n",
       " 'PPL',\n",
       " 'PFG',\n",
       " 'PG',\n",
       " 'PGR',\n",
       " 'PLD',\n",
       " 'PRU',\n",
       " 'PSA',\n",
       " 'PHM',\n",
       " 'QRVO',\n",
       " 'PWR',\n",
       " 'QCOM',\n",
       " 'DGX',\n",
       " 'RL',\n",
       " 'RTX',\n",
       " 'O',\n",
       " 'REGN',\n",
       " 'RF',\n",
       " 'RSG',\n",
       " 'RMD',\n",
       " 'RHI',\n",
       " 'ROK',\n",
       " 'ROP',\n",
       " 'ROST',\n",
       " 'RCL',\n",
       " 'SPGI',\n",
       " 'CRM',\n",
       " 'SBAC',\n",
       " 'SLB',\n",
       " 'SEE',\n",
       " 'SRE',\n",
       " 'NOW',\n",
       " 'SHW',\n",
       " 'SPG',\n",
       " 'SWKS',\n",
       " 'SJM',\n",
       " 'SNA',\n",
       " 'SO',\n",
       " 'LUV',\n",
       " 'SWK',\n",
       " 'SBUX',\n",
       " 'STT',\n",
       " 'SYK',\n",
       " 'SYF',\n",
       " 'SYY',\n",
       " 'TROW',\n",
       " 'TPR',\n",
       " 'TGT',\n",
       " 'TEL',\n",
       " 'TXN',\n",
       " 'TXT',\n",
       " 'TMO',\n",
       " 'TJX',\n",
       " 'TSCO',\n",
       " 'TT',\n",
       " 'TDG',\n",
       " 'TRV',\n",
       " 'TFC',\n",
       " 'TSN',\n",
       " 'USB',\n",
       " 'UDR',\n",
       " 'UNP',\n",
       " 'UAL',\n",
       " 'UPS',\n",
       " 'URI',\n",
       " 'UNH',\n",
       " 'UHS',\n",
       " 'VLO',\n",
       " 'VTR',\n",
       " 'VRSN',\n",
       " 'VRSK',\n",
       " 'VZ',\n",
       " 'VRTX',\n",
       " 'VFC',\n",
       " 'V',\n",
       " 'VMC',\n",
       " 'WAB',\n",
       " 'WBA',\n",
       " 'WMT',\n",
       " 'WM',\n",
       " 'WAT',\n",
       " 'WEC',\n",
       " 'WFC',\n",
       " 'WDC',\n",
       " 'WY',\n",
       " 'WHR',\n",
       " 'WMB',\n",
       " 'GWW',\n",
       " 'WYNN',\n",
       " 'XEL',\n",
       " 'XYL',\n",
       " 'YUM',\n",
       " 'ZBH',\n",
       " 'ZTS']"
      ]
     },
     "execution_count": 15,
     "metadata": {},
     "output_type": "execute_result"
    }
   ],
   "source": [
    "Tickers"
   ]
  },
  {
   "cell_type": "code",
   "execution_count": 16,
   "metadata": {},
   "outputs": [
    {
     "data": {
      "text/plain": [
       "373"
      ]
     },
     "execution_count": 16,
     "metadata": {},
     "output_type": "execute_result"
    }
   ],
   "source": [
    "len(Tickers)"
   ]
  },
  {
   "cell_type": "code",
   "execution_count": 18,
   "metadata": {},
   "outputs": [],
   "source": [
    "# Web scrapping stocks data"
   ]
  },
  {
   "cell_type": "code",
   "execution_count": 20,
   "metadata": {
    "scrolled": true
   },
   "outputs": [],
   "source": [
    "#Setting up start and end date\n",
    "\n",
    "start='2014-01-01'\n",
    "end='2016-09-01'\n"
   ]
  },
  {
   "cell_type": "code",
   "execution_count": 21,
   "metadata": {},
   "outputs": [
    {
     "name": "stdout",
     "output_type": "stream",
     "text": [
      "[*********************100%***********************]  372 of 372 completed\n"
     ]
    }
   ],
   "source": [
    "scrapping=yf.download(Tickers, start,end)"
   ]
  },
  {
   "cell_type": "code",
   "execution_count": 22,
   "metadata": {
    "scrolled": true
   },
   "outputs": [],
   "source": [
    "snp_prices=scrapping['Adj Close']"
   ]
  },
  {
   "cell_type": "code",
   "execution_count": 26,
   "metadata": {},
   "outputs": [],
   "source": [
    "df_test=snp_prices.copy()\n"
   ]
  },
  {
   "cell_type": "code",
   "execution_count": 23,
   "metadata": {},
   "outputs": [],
   "source": [
    "df=snp_prices.copy()"
   ]
  },
  {
   "cell_type": "code",
   "execution_count": 24,
   "metadata": {},
   "outputs": [
    {
     "data": {
      "text/html": [
       "<div>\n",
       "<style scoped>\n",
       "    .dataframe tbody tr th:only-of-type {\n",
       "        vertical-align: middle;\n",
       "    }\n",
       "\n",
       "    .dataframe tbody tr th {\n",
       "        vertical-align: top;\n",
       "    }\n",
       "\n",
       "    .dataframe thead th {\n",
       "        text-align: right;\n",
       "    }\n",
       "</style>\n",
       "<table border=\"1\" class=\"dataframe\">\n",
       "  <thead>\n",
       "    <tr style=\"text-align: right;\">\n",
       "      <th></th>\n",
       "      <th>A</th>\n",
       "      <th>AAL</th>\n",
       "      <th>AAP</th>\n",
       "      <th>AAPL</th>\n",
       "      <th>ABBV</th>\n",
       "      <th>ABC</th>\n",
       "      <th>ABT</th>\n",
       "      <th>ACN</th>\n",
       "      <th>ADBE</th>\n",
       "      <th>ADI</th>\n",
       "      <th>...</th>\n",
       "      <th>WMT</th>\n",
       "      <th>WY</th>\n",
       "      <th>WYNN</th>\n",
       "      <th>XEL</th>\n",
       "      <th>XOM</th>\n",
       "      <th>XRAY</th>\n",
       "      <th>XYL</th>\n",
       "      <th>YUM</th>\n",
       "      <th>ZBH</th>\n",
       "      <th>ZTS</th>\n",
       "    </tr>\n",
       "    <tr>\n",
       "      <th>Date</th>\n",
       "      <th></th>\n",
       "      <th></th>\n",
       "      <th></th>\n",
       "      <th></th>\n",
       "      <th></th>\n",
       "      <th></th>\n",
       "      <th></th>\n",
       "      <th></th>\n",
       "      <th></th>\n",
       "      <th></th>\n",
       "      <th></th>\n",
       "      <th></th>\n",
       "      <th></th>\n",
       "      <th></th>\n",
       "      <th></th>\n",
       "      <th></th>\n",
       "      <th></th>\n",
       "      <th></th>\n",
       "      <th></th>\n",
       "      <th></th>\n",
       "      <th></th>\n",
       "    </tr>\n",
       "  </thead>\n",
       "  <tbody>\n",
       "    <tr>\n",
       "      <th>2014-01-02 00:00:00-05:00</th>\n",
       "      <td>37.141602</td>\n",
       "      <td>23.907925</td>\n",
       "      <td>101.185295</td>\n",
       "      <td>17.364958</td>\n",
       "      <td>35.240074</td>\n",
       "      <td>60.331604</td>\n",
       "      <td>31.847374</td>\n",
       "      <td>68.658340</td>\n",
       "      <td>59.290001</td>\n",
       "      <td>40.111164</td>\n",
       "      <td>...</td>\n",
       "      <td>64.243126</td>\n",
       "      <td>21.375246</td>\n",
       "      <td>168.754120</td>\n",
       "      <td>20.609205</td>\n",
       "      <td>66.009567</td>\n",
       "      <td>44.643024</td>\n",
       "      <td>30.301588</td>\n",
       "      <td>45.261662</td>\n",
       "      <td>83.170258</td>\n",
       "      <td>30.264683</td>\n",
       "    </tr>\n",
       "    <tr>\n",
       "      <th>2014-01-03 00:00:00-05:00</th>\n",
       "      <td>37.610737</td>\n",
       "      <td>25.020359</td>\n",
       "      <td>104.080521</td>\n",
       "      <td>16.983528</td>\n",
       "      <td>35.457016</td>\n",
       "      <td>60.374783</td>\n",
       "      <td>32.188923</td>\n",
       "      <td>68.886841</td>\n",
       "      <td>59.160000</td>\n",
       "      <td>40.379757</td>\n",
       "      <td>...</td>\n",
       "      <td>64.031425</td>\n",
       "      <td>21.423101</td>\n",
       "      <td>167.100159</td>\n",
       "      <td>20.601713</td>\n",
       "      <td>65.850731</td>\n",
       "      <td>44.857117</td>\n",
       "      <td>30.576565</td>\n",
       "      <td>45.544952</td>\n",
       "      <td>83.530907</td>\n",
       "      <td>29.974749</td>\n",
       "    </tr>\n",
       "    <tr>\n",
       "      <th>2014-01-06 00:00:00-05:00</th>\n",
       "      <td>37.425732</td>\n",
       "      <td>25.482302</td>\n",
       "      <td>103.084709</td>\n",
       "      <td>17.076141</td>\n",
       "      <td>34.162128</td>\n",
       "      <td>60.158966</td>\n",
       "      <td>32.613792</td>\n",
       "      <td>68.159050</td>\n",
       "      <td>58.119999</td>\n",
       "      <td>40.151871</td>\n",
       "      <td>...</td>\n",
       "      <td>63.673214</td>\n",
       "      <td>21.204353</td>\n",
       "      <td>166.980804</td>\n",
       "      <td>20.489336</td>\n",
       "      <td>65.950020</td>\n",
       "      <td>44.587181</td>\n",
       "      <td>30.523352</td>\n",
       "      <td>45.508793</td>\n",
       "      <td>84.071922</td>\n",
       "      <td>29.909281</td>\n",
       "    </tr>\n",
       "    <tr>\n",
       "      <th>2014-01-07 00:00:00-05:00</th>\n",
       "      <td>37.960964</td>\n",
       "      <td>25.369171</td>\n",
       "      <td>104.357132</td>\n",
       "      <td>16.954023</td>\n",
       "      <td>34.229931</td>\n",
       "      <td>60.815025</td>\n",
       "      <td>32.363865</td>\n",
       "      <td>68.988403</td>\n",
       "      <td>58.970001</td>\n",
       "      <td>40.363487</td>\n",
       "      <td>...</td>\n",
       "      <td>63.868618</td>\n",
       "      <td>21.265879</td>\n",
       "      <td>171.797668</td>\n",
       "      <td>20.841440</td>\n",
       "      <td>66.883064</td>\n",
       "      <td>45.275997</td>\n",
       "      <td>30.612051</td>\n",
       "      <td>46.147713</td>\n",
       "      <td>85.749023</td>\n",
       "      <td>30.021509</td>\n",
       "    </tr>\n",
       "    <tr>\n",
       "      <th>2014-01-08 00:00:00-05:00</th>\n",
       "      <td>38.582081</td>\n",
       "      <td>26.047943</td>\n",
       "      <td>103.545738</td>\n",
       "      <td>17.061382</td>\n",
       "      <td>34.141781</td>\n",
       "      <td>61.410648</td>\n",
       "      <td>32.655434</td>\n",
       "      <td>69.521538</td>\n",
       "      <td>58.900002</td>\n",
       "      <td>40.461178</td>\n",
       "      <td>...</td>\n",
       "      <td>63.363884</td>\n",
       "      <td>21.067640</td>\n",
       "      <td>175.020355</td>\n",
       "      <td>20.759035</td>\n",
       "      <td>66.664696</td>\n",
       "      <td>45.359779</td>\n",
       "      <td>30.594313</td>\n",
       "      <td>46.129631</td>\n",
       "      <td>87.849930</td>\n",
       "      <td>29.684818</td>\n",
       "    </tr>\n",
       "    <tr>\n",
       "      <th>...</th>\n",
       "      <td>...</td>\n",
       "      <td>...</td>\n",
       "      <td>...</td>\n",
       "      <td>...</td>\n",
       "      <td>...</td>\n",
       "      <td>...</td>\n",
       "      <td>...</td>\n",
       "      <td>...</td>\n",
       "      <td>...</td>\n",
       "      <td>...</td>\n",
       "      <td>...</td>\n",
       "      <td>...</td>\n",
       "      <td>...</td>\n",
       "      <td>...</td>\n",
       "      <td>...</td>\n",
       "      <td>...</td>\n",
       "      <td>...</td>\n",
       "      <td>...</td>\n",
       "      <td>...</td>\n",
       "      <td>...</td>\n",
       "      <td>...</td>\n",
       "    </tr>\n",
       "    <tr>\n",
       "      <th>2016-08-25 00:00:00-04:00</th>\n",
       "      <td>44.787663</td>\n",
       "      <td>35.394398</td>\n",
       "      <td>148.295074</td>\n",
       "      <td>24.966097</td>\n",
       "      <td>48.146824</td>\n",
       "      <td>76.622826</td>\n",
       "      <td>37.957409</td>\n",
       "      <td>103.006233</td>\n",
       "      <td>101.690002</td>\n",
       "      <td>55.169922</td>\n",
       "      <td>...</td>\n",
       "      <td>62.414619</td>\n",
       "      <td>23.647236</td>\n",
       "      <td>83.173439</td>\n",
       "      <td>34.726860</td>\n",
       "      <td>63.174366</td>\n",
       "      <td>57.340115</td>\n",
       "      <td>46.587749</td>\n",
       "      <td>57.569401</td>\n",
       "      <td>118.034012</td>\n",
       "      <td>48.274261</td>\n",
       "    </tr>\n",
       "    <tr>\n",
       "      <th>2016-08-26 00:00:00-04:00</th>\n",
       "      <td>44.844532</td>\n",
       "      <td>34.922085</td>\n",
       "      <td>145.193604</td>\n",
       "      <td>24.819874</td>\n",
       "      <td>48.064987</td>\n",
       "      <td>76.837875</td>\n",
       "      <td>38.081444</td>\n",
       "      <td>103.149490</td>\n",
       "      <td>102.059998</td>\n",
       "      <td>55.381023</td>\n",
       "      <td>...</td>\n",
       "      <td>62.344524</td>\n",
       "      <td>23.317343</td>\n",
       "      <td>82.566933</td>\n",
       "      <td>33.995861</td>\n",
       "      <td>63.037113</td>\n",
       "      <td>57.887299</td>\n",
       "      <td>46.670635</td>\n",
       "      <td>57.306973</td>\n",
       "      <td>119.277328</td>\n",
       "      <td>48.551640</td>\n",
       "    </tr>\n",
       "    <tr>\n",
       "      <th>2016-08-29 00:00:00-04:00</th>\n",
       "      <td>45.128841</td>\n",
       "      <td>34.864250</td>\n",
       "      <td>145.971313</td>\n",
       "      <td>24.792028</td>\n",
       "      <td>47.990601</td>\n",
       "      <td>77.339684</td>\n",
       "      <td>38.320667</td>\n",
       "      <td>102.836105</td>\n",
       "      <td>102.300003</td>\n",
       "      <td>55.319454</td>\n",
       "      <td>...</td>\n",
       "      <td>62.572365</td>\n",
       "      <td>23.722208</td>\n",
       "      <td>83.366417</td>\n",
       "      <td>34.250484</td>\n",
       "      <td>63.448853</td>\n",
       "      <td>58.368439</td>\n",
       "      <td>47.100243</td>\n",
       "      <td>58.094273</td>\n",
       "      <td>120.272003</td>\n",
       "      <td>48.551640</td>\n",
       "    </tr>\n",
       "    <tr>\n",
       "      <th>2016-08-30 00:00:00-04:00</th>\n",
       "      <td>44.673943</td>\n",
       "      <td>35.712486</td>\n",
       "      <td>145.036224</td>\n",
       "      <td>24.601711</td>\n",
       "      <td>47.730221</td>\n",
       "      <td>77.097725</td>\n",
       "      <td>37.948540</td>\n",
       "      <td>103.283806</td>\n",
       "      <td>102.000000</td>\n",
       "      <td>55.328251</td>\n",
       "      <td>...</td>\n",
       "      <td>62.493507</td>\n",
       "      <td>23.872162</td>\n",
       "      <td>82.842621</td>\n",
       "      <td>33.831585</td>\n",
       "      <td>63.217709</td>\n",
       "      <td>58.019379</td>\n",
       "      <td>47.091003</td>\n",
       "      <td>58.107082</td>\n",
       "      <td>119.608887</td>\n",
       "      <td>48.542068</td>\n",
       "    </tr>\n",
       "    <tr>\n",
       "      <th>2016-08-31 00:00:00-04:00</th>\n",
       "      <td>44.522324</td>\n",
       "      <td>34.989559</td>\n",
       "      <td>145.702820</td>\n",
       "      <td>24.624916</td>\n",
       "      <td>47.685585</td>\n",
       "      <td>77.931084</td>\n",
       "      <td>37.230877</td>\n",
       "      <td>102.970428</td>\n",
       "      <td>102.309998</td>\n",
       "      <td>55.029182</td>\n",
       "      <td>...</td>\n",
       "      <td>62.607449</td>\n",
       "      <td>23.879663</td>\n",
       "      <td>82.079895</td>\n",
       "      <td>33.971230</td>\n",
       "      <td>62.943230</td>\n",
       "      <td>57.981636</td>\n",
       "      <td>46.989380</td>\n",
       "      <td>58.062283</td>\n",
       "      <td>119.369446</td>\n",
       "      <td>48.876835</td>\n",
       "    </tr>\n",
       "  </tbody>\n",
       "</table>\n",
       "<p>672 rows × 372 columns</p>\n",
       "</div>"
      ],
      "text/plain": [
       "                                   A        AAL         AAP       AAPL  \\\n",
       "Date                                                                     \n",
       "2014-01-02 00:00:00-05:00  37.141602  23.907925  101.185295  17.364958   \n",
       "2014-01-03 00:00:00-05:00  37.610737  25.020359  104.080521  16.983528   \n",
       "2014-01-06 00:00:00-05:00  37.425732  25.482302  103.084709  17.076141   \n",
       "2014-01-07 00:00:00-05:00  37.960964  25.369171  104.357132  16.954023   \n",
       "2014-01-08 00:00:00-05:00  38.582081  26.047943  103.545738  17.061382   \n",
       "...                              ...        ...         ...        ...   \n",
       "2016-08-25 00:00:00-04:00  44.787663  35.394398  148.295074  24.966097   \n",
       "2016-08-26 00:00:00-04:00  44.844532  34.922085  145.193604  24.819874   \n",
       "2016-08-29 00:00:00-04:00  45.128841  34.864250  145.971313  24.792028   \n",
       "2016-08-30 00:00:00-04:00  44.673943  35.712486  145.036224  24.601711   \n",
       "2016-08-31 00:00:00-04:00  44.522324  34.989559  145.702820  24.624916   \n",
       "\n",
       "                                ABBV        ABC        ABT         ACN  \\\n",
       "Date                                                                     \n",
       "2014-01-02 00:00:00-05:00  35.240074  60.331604  31.847374   68.658340   \n",
       "2014-01-03 00:00:00-05:00  35.457016  60.374783  32.188923   68.886841   \n",
       "2014-01-06 00:00:00-05:00  34.162128  60.158966  32.613792   68.159050   \n",
       "2014-01-07 00:00:00-05:00  34.229931  60.815025  32.363865   68.988403   \n",
       "2014-01-08 00:00:00-05:00  34.141781  61.410648  32.655434   69.521538   \n",
       "...                              ...        ...        ...         ...   \n",
       "2016-08-25 00:00:00-04:00  48.146824  76.622826  37.957409  103.006233   \n",
       "2016-08-26 00:00:00-04:00  48.064987  76.837875  38.081444  103.149490   \n",
       "2016-08-29 00:00:00-04:00  47.990601  77.339684  38.320667  102.836105   \n",
       "2016-08-30 00:00:00-04:00  47.730221  77.097725  37.948540  103.283806   \n",
       "2016-08-31 00:00:00-04:00  47.685585  77.931084  37.230877  102.970428   \n",
       "\n",
       "                                 ADBE        ADI  ...        WMT         WY  \\\n",
       "Date                                              ...                         \n",
       "2014-01-02 00:00:00-05:00   59.290001  40.111164  ...  64.243126  21.375246   \n",
       "2014-01-03 00:00:00-05:00   59.160000  40.379757  ...  64.031425  21.423101   \n",
       "2014-01-06 00:00:00-05:00   58.119999  40.151871  ...  63.673214  21.204353   \n",
       "2014-01-07 00:00:00-05:00   58.970001  40.363487  ...  63.868618  21.265879   \n",
       "2014-01-08 00:00:00-05:00   58.900002  40.461178  ...  63.363884  21.067640   \n",
       "...                               ...        ...  ...        ...        ...   \n",
       "2016-08-25 00:00:00-04:00  101.690002  55.169922  ...  62.414619  23.647236   \n",
       "2016-08-26 00:00:00-04:00  102.059998  55.381023  ...  62.344524  23.317343   \n",
       "2016-08-29 00:00:00-04:00  102.300003  55.319454  ...  62.572365  23.722208   \n",
       "2016-08-30 00:00:00-04:00  102.000000  55.328251  ...  62.493507  23.872162   \n",
       "2016-08-31 00:00:00-04:00  102.309998  55.029182  ...  62.607449  23.879663   \n",
       "\n",
       "                                 WYNN        XEL        XOM       XRAY  \\\n",
       "Date                                                                     \n",
       "2014-01-02 00:00:00-05:00  168.754120  20.609205  66.009567  44.643024   \n",
       "2014-01-03 00:00:00-05:00  167.100159  20.601713  65.850731  44.857117   \n",
       "2014-01-06 00:00:00-05:00  166.980804  20.489336  65.950020  44.587181   \n",
       "2014-01-07 00:00:00-05:00  171.797668  20.841440  66.883064  45.275997   \n",
       "2014-01-08 00:00:00-05:00  175.020355  20.759035  66.664696  45.359779   \n",
       "...                               ...        ...        ...        ...   \n",
       "2016-08-25 00:00:00-04:00   83.173439  34.726860  63.174366  57.340115   \n",
       "2016-08-26 00:00:00-04:00   82.566933  33.995861  63.037113  57.887299   \n",
       "2016-08-29 00:00:00-04:00   83.366417  34.250484  63.448853  58.368439   \n",
       "2016-08-30 00:00:00-04:00   82.842621  33.831585  63.217709  58.019379   \n",
       "2016-08-31 00:00:00-04:00   82.079895  33.971230  62.943230  57.981636   \n",
       "\n",
       "                                 XYL        YUM         ZBH        ZTS  \n",
       "Date                                                                    \n",
       "2014-01-02 00:00:00-05:00  30.301588  45.261662   83.170258  30.264683  \n",
       "2014-01-03 00:00:00-05:00  30.576565  45.544952   83.530907  29.974749  \n",
       "2014-01-06 00:00:00-05:00  30.523352  45.508793   84.071922  29.909281  \n",
       "2014-01-07 00:00:00-05:00  30.612051  46.147713   85.749023  30.021509  \n",
       "2014-01-08 00:00:00-05:00  30.594313  46.129631   87.849930  29.684818  \n",
       "...                              ...        ...         ...        ...  \n",
       "2016-08-25 00:00:00-04:00  46.587749  57.569401  118.034012  48.274261  \n",
       "2016-08-26 00:00:00-04:00  46.670635  57.306973  119.277328  48.551640  \n",
       "2016-08-29 00:00:00-04:00  47.100243  58.094273  120.272003  48.551640  \n",
       "2016-08-30 00:00:00-04:00  47.091003  58.107082  119.608887  48.542068  \n",
       "2016-08-31 00:00:00-04:00  46.989380  58.062283  119.369446  48.876835  \n",
       "\n",
       "[672 rows x 372 columns]"
      ]
     },
     "execution_count": 24,
     "metadata": {},
     "output_type": "execute_result"
    }
   ],
   "source": [
    "snp_prices"
   ]
  },
  {
   "cell_type": "markdown",
   "metadata": {},
   "source": [
    "# Calculating mean returns and covariance matrix"
   ]
  },
  {
   "cell_type": "code",
   "execution_count": 34,
   "metadata": {},
   "outputs": [],
   "source": [
    "\n",
    "\n",
    "mu = mean_historical_return(df)\n",
    "mu_e= ema_historical_return(df)\n",
    "S = CovarianceShrinkage(df).ledoit_wolf()\n"
   ]
  },
  {
   "cell_type": "markdown",
   "metadata": {},
   "source": [
    "# Portfolio Optimization under various scenarious"
   ]
  },
  {
   "cell_type": "code",
   "execution_count": 35,
   "metadata": {},
   "outputs": [],
   "source": [
    "# Target volatility=0.1\n",
    "\n",
    "ef = EfficientFrontier(mu, S, weight_bounds=(0, 1)) \n",
    "weights = ef.efficient_risk(target_volatility=0.1)"
   ]
  },
  {
   "cell_type": "code",
   "execution_count": 36,
   "metadata": {},
   "outputs": [],
   "source": [
    "PO=ef.clean_weights()"
   ]
  },
  {
   "cell_type": "code",
   "execution_count": 37,
   "metadata": {},
   "outputs": [
    {
     "data": {
      "text/plain": [
       "['ABC',\n",
       " 'AWK',\n",
       " 'CLX',\n",
       " 'CTAS',\n",
       " 'DLR',\n",
       " 'EA',\n",
       " 'ED',\n",
       " 'EW',\n",
       " 'HPE',\n",
       " 'HUM',\n",
       " 'ISRG',\n",
       " 'KHC',\n",
       " 'LMT',\n",
       " 'MKTX',\n",
       " 'MO',\n",
       " 'NEM',\n",
       " 'NVDA',\n",
       " 'O',\n",
       " 'ORLY',\n",
       " 'RSG',\n",
       " 'SO',\n",
       " 'STZ',\n",
       " 'SYF',\n",
       " 'SYY',\n",
       " 'T',\n",
       " 'TDG',\n",
       " 'TSN',\n",
       " 'WM']"
      ]
     },
     "execution_count": 37,
     "metadata": {},
     "output_type": "execute_result"
    }
   ],
   "source": [
    "#tickers for portfolio constituents\n",
    "\n",
    "res = [d for d in PO if PO[d] > 0]\n",
    "res"
   ]
  },
  {
   "cell_type": "code",
   "execution_count": 38,
   "metadata": {},
   "outputs": [
    {
     "name": "stdout",
     "output_type": "stream",
     "text": [
      "2.871\n",
      "6.279999999999999\n",
      "4.8759999999999994\n",
      "1.006\n",
      "3.549\n",
      "2.445\n",
      "3.8600000000000003\n",
      "3.2009999999999996\n",
      "12.034\n",
      "0.06899999999999999\n",
      "1.49\n",
      "11.996\n",
      "6.069\n",
      "0.22599999999999998\n",
      "2.707\n",
      "2.672\n",
      "2.0549999999999997\n",
      "5.537\n",
      "0.35500000000000004\n",
      "0.943\n",
      "4.5120000000000005\n",
      "1.95\n",
      "0.457\n",
      "5.563\n",
      "2.619\n",
      "1.8319999999999999\n",
      "3.066\n",
      "5.761\n"
     ]
    }
   ],
   "source": [
    "#percentage share of portfolio constituents\n",
    "\n",
    "for i in res:\n",
    "    print(PO.get(i)*100)"
   ]
  },
  {
   "cell_type": "code",
   "execution_count": 483,
   "metadata": {},
   "outputs": [
    {
     "name": "stdout",
     "output_type": "stream",
     "text": [
      "Expected annual return: 28.1%\n",
      "Annual volatility: 10.0%\n",
      "Sharpe Ratio: 2.61\n"
     ]
    },
    {
     "data": {
      "text/plain": [
       "(0.28096582225529926, 0.10000000046970839, 2.609658210295209)"
      ]
     },
     "execution_count": 483,
     "metadata": {},
     "output_type": "execute_result"
    }
   ],
   "source": [
    "ef.portfolio_performance(verbose=True)"
   ]
  },
  {
   "cell_type": "code",
   "execution_count": 571,
   "metadata": {},
   "outputs": [
    {
     "name": "stdout",
     "output_type": "stream",
     "text": [
      "Expected annual return: 60.0%\n",
      "Annual volatility: 19.6%\n",
      "Sharpe Ratio: 2.97\n"
     ]
    },
    {
     "data": {
      "text/plain": [
       "(0.5999999999999983, 0.19560928303800937, 2.965094452533201)"
      ]
     },
     "execution_count": 571,
     "metadata": {},
     "output_type": "execute_result"
    }
   ],
   "source": [
    "#Target_return=0.6\n",
    "\n",
    "ef2 = EfficientFrontier(mu, S, weight_bounds=(0, 1)) \n",
    "weights_2 = ef2.efficient_return(target_return=0.6, market_neutral=False)\n",
    "ef2.portfolio_performance(verbose=True)"
   ]
  },
  {
   "cell_type": "code",
   "execution_count": 572,
   "metadata": {},
   "outputs": [],
   "source": [
    "PO2=ef2.clean_weights()"
   ]
  },
  {
   "cell_type": "code",
   "execution_count": 573,
   "metadata": {},
   "outputs": [
    {
     "data": {
      "text/plain": [
       "['DLR', 'EA', 'EW', 'HPE', 'MKTX', 'NVDA', 'STZ', 'TSN']"
      ]
     },
     "execution_count": 573,
     "metadata": {},
     "output_type": "execute_result"
    }
   ],
   "source": [
    "res2 = [d for d in PO2 if PO2[d] > 0]\n",
    "res2"
   ]
  },
  {
   "cell_type": "code",
   "execution_count": 574,
   "metadata": {},
   "outputs": [
    {
     "name": "stdout",
     "output_type": "stream",
     "text": [
      "4.777\n",
      "23.666999999999998\n",
      "28.851\n",
      "0.823\n",
      "1.3299999999999998\n",
      "33.127\n",
      "2.465\n",
      "4.96\n"
     ]
    }
   ],
   "source": [
    "for i in res2:\n",
    "    print(PO2.get(i)*100)"
   ]
  },
  {
   "cell_type": "code",
   "execution_count": 576,
   "metadata": {},
   "outputs": [
    {
     "name": "stdout",
     "output_type": "stream",
     "text": [
      "Expected annual return: 14.7%\n",
      "Annual volatility: 9.2%\n",
      "Sharpe Ratio: 1.39\n"
     ]
    },
    {
     "data": {
      "text/plain": [
       "(0.1473739306607184, 0.09189593094666287, 1.3860671451780304)"
      ]
     },
     "execution_count": 576,
     "metadata": {},
     "output_type": "execute_result"
    }
   ],
   "source": [
    "#Minimum volatility portfolio\n",
    "\n",
    "\n",
    "ef9 = EfficientFrontier(mu, S, weight_bounds=(0, 1)) \n",
    "weights= ef9.min_volatility()\n",
    "ef9.portfolio_performance(verbose=True)"
   ]
  },
  {
   "cell_type": "code",
   "execution_count": null,
   "metadata": {},
   "outputs": [],
   "source": []
  },
  {
   "cell_type": "code",
   "execution_count": null,
   "metadata": {},
   "outputs": [],
   "source": []
  },
  {
   "cell_type": "code",
   "execution_count": null,
   "metadata": {},
   "outputs": [],
   "source": []
  },
  {
   "cell_type": "code",
   "execution_count": 577,
   "metadata": {},
   "outputs": [
    {
     "data": {
      "text/plain": [
       "(0.28096556942923934, 0.10000000049211542, 2.6096556814498753)"
      ]
     },
     "execution_count": 577,
     "metadata": {},
     "output_type": "execute_result"
    }
   ],
   "source": [
    "#Target volatilty =0.1+ ESG restriction for portfolio = 50\n",
    "\n",
    "portfolio_min_score = 50\n",
    "\n",
    "ef3 = EfficientFrontier(mu, S)\n",
    "ef3.add_constraint(lambda w: list(merged_data['E_score'][1:375]) @ w >= portfolio_min_score)\n",
    "weights = ef3.efficient_risk(target_volatility=0.1)\n",
    "ef3.portfolio_performance()\n"
   ]
  },
  {
   "cell_type": "code",
   "execution_count": 578,
   "metadata": {},
   "outputs": [
    {
     "data": {
      "text/plain": [
       "(0.27150925557681854, 0.10000000009649, 2.5150925533413724)"
      ]
     },
     "execution_count": 578,
     "metadata": {},
     "output_type": "execute_result"
    }
   ],
   "source": [
    "#Target volatilty =0.1+ ESG restriction for portfolio = 65\n",
    "\n",
    "portfolio_min_score = 65\n",
    "\n",
    "ef4 = EfficientFrontier(mu, S)\n",
    "ef4.add_constraint(lambda w: list(merged_data['E_score'][1:375]) @ w >= portfolio_min_score)\n",
    "weights = ef4.efficient_risk(target_volatility=0.1)\n",
    "ef4.portfolio_performance()\n"
   ]
  },
  {
   "cell_type": "code",
   "execution_count": 579,
   "metadata": {},
   "outputs": [
    {
     "data": {
      "text/plain": [
       "(0.21094867972844975, 0.10000000013120364, 1.9094867947791814)"
      ]
     },
     "execution_count": 579,
     "metadata": {},
     "output_type": "execute_result"
    }
   ],
   "source": [
    "portfolio_min_score = 80\n",
    "\n",
    "ef5 = EfficientFrontier(mu, S)\n",
    "ef5.add_constraint(lambda w: list(merged_data['E_score'][1:375]) @ w >= portfolio_min_score)\n",
    "weights = ef5.efficient_risk(target_volatility=0.1)\n",
    "ef5.portfolio_performance()"
   ]
  },
  {
   "cell_type": "markdown",
   "metadata": {},
   "source": [
    "# Regarding target volatility=0.1. When minimum weighted ESG score for portfolio = 0.5 the portfolio is the same. However when the minimum weighted ESG score requirement increased the expected annual return decreases and sharp ratio also decreases. \n"
   ]
  },
  {
   "cell_type": "code",
   "execution_count": null,
   "metadata": {},
   "outputs": [],
   "source": []
  },
  {
   "cell_type": "code",
   "execution_count": 580,
   "metadata": {},
   "outputs": [],
   "source": [
    "# Target return = 0.6 + ESG constraints"
   ]
  },
  {
   "cell_type": "code",
   "execution_count": 581,
   "metadata": {},
   "outputs": [
    {
     "data": {
      "text/plain": [
       "(0.5999999999999996, 0.19560928303801037, 2.9650944525331924)"
      ]
     },
     "execution_count": 581,
     "metadata": {},
     "output_type": "execute_result"
    }
   ],
   "source": [
    "# Target return = 0.6 + Env constraints >=50.\n",
    "\n",
    "portfolio_min_score = 50\n",
    "\n",
    "ef6 = EfficientFrontier(mu, S)\n",
    "ef6.add_constraint(lambda w: list(merged_data['E_score'][1:375]) @ w >= portfolio_min_score)\n",
    "weights = ef6.efficient_return(target_return=0.6, market_neutral=False)\n",
    "ef6.portfolio_performance()"
   ]
  },
  {
   "cell_type": "code",
   "execution_count": null,
   "metadata": {},
   "outputs": [],
   "source": []
  },
  {
   "cell_type": "code",
   "execution_count": 582,
   "metadata": {},
   "outputs": [
    {
     "data": {
      "text/plain": [
       "(0.5999568152335403, 0.19819431686246278, 2.9262030537232917)"
      ]
     },
     "execution_count": 582,
     "metadata": {},
     "output_type": "execute_result"
    }
   ],
   "source": [
    "# Target return = 0.6 + Env constraints >=60.\n",
    "\n",
    "portfolio_min_score = 60\n",
    "\n",
    "ef7 = EfficientFrontier(mu, S)\n",
    "ef7.add_constraint(lambda w: list(merged_data['E_score'][1:375]) @ w >= portfolio_min_score)\n",
    "weights = ef7.efficient_return(target_return=0.6, market_neutral=False)\n",
    "ef7.portfolio_performance()"
   ]
  },
  {
   "cell_type": "code",
   "execution_count": 584,
   "metadata": {},
   "outputs": [
    {
     "data": {
      "text/plain": [
       "(0.6000000000000004, 0.23320514081866883, 2.487080679113269)"
      ]
     },
     "execution_count": 584,
     "metadata": {},
     "output_type": "execute_result"
    }
   ],
   "source": [
    "# Target return = 0.6 + Env constraints >=67.\n",
    "\n",
    "portfolio_min_score =67\n",
    "\n",
    "ef8 = EfficientFrontier(mu, S)\n",
    "ef8.add_constraint(lambda w: list(merged_data['E_score'][1:375]) @ w >= portfolio_min_score)\n",
    "weights = ef8.efficient_return(target_return=0.6, market_neutral=False)\n",
    "ef8.portfolio_performance()"
   ]
  },
  {
   "cell_type": "markdown",
   "metadata": {},
   "source": [
    "# When setting target return 0.6 and E_concstraint equal to 50 the portfoilo is same as without constraints, but if we encrease E_constraint for portfolio sharp ratio drops and volatility increases."
   ]
  },
  {
   "cell_type": "code",
   "execution_count": 240,
   "metadata": {},
   "outputs": [],
   "source": []
  },
  {
   "cell_type": "code",
   "execution_count": null,
   "metadata": {},
   "outputs": [],
   "source": []
  },
  {
   "cell_type": "code",
   "execution_count": 585,
   "metadata": {},
   "outputs": [
    {
     "data": {
      "text/plain": [
       "(0.14920661554667566, 0.10678911465528304, 1.2099230896684243)"
      ]
     },
     "execution_count": 585,
     "metadata": {},
     "output_type": "execute_result"
    }
   ],
   "source": [
    "#Min_volatility + EDG 90\n",
    "\n",
    "portfolio_min_score =90\n",
    "\n",
    "ef10 = EfficientFrontier(mu, S)\n",
    "ef10.add_constraint(lambda w: list(merged_data['E_score'][1:375]) @ w >= portfolio_min_score)\n",
    "weights = ef10.min_volatility()\n",
    "ef10.portfolio_performance()"
   ]
  },
  {
   "cell_type": "markdown",
   "metadata": {},
   "source": [
    "# Minimum expected volatilty for portfolio with ESG constraint equal 90 is higher than for one without"
   ]
  },
  {
   "cell_type": "code",
   "execution_count": null,
   "metadata": {},
   "outputs": [],
   "source": []
  },
  {
   "cell_type": "markdown",
   "metadata": {},
   "source": [
    "# Conclusions"
   ]
  },
  {
   "cell_type": "code",
   "execution_count": null,
   "metadata": {},
   "outputs": [],
   "source": []
  },
  {
   "cell_type": "markdown",
   "metadata": {},
   "source": [
    "# 1) The main problem for ESG portfolio research is the data. \n",
    "# Even Bloomberg has very few reliable sources for ESG ratings. Most of the ratings have only latest value available for any given stock and lack of long term historical data.\n",
    "\n",
    "# Even having acess to Bloomberg terminal you need to pay to have access  for some rich historical data. I assume a lot of companies can speculate and try to earn money providing their own ESG scores.\n",
    "\n",
    "# Often ESG scores are very hard to interpret. \n",
    "\n",
    "# Different companies use different scales and different ranking are barely correlated\n",
    "\n",
    "# We dont have a good reliable and undrstandable ESG score at this moment"
   ]
  },
  {
   "cell_type": "code",
   "execution_count": null,
   "metadata": {},
   "outputs": [],
   "source": []
  },
  {
   "cell_type": "markdown",
   "metadata": {},
   "source": [
    "# 2) Based on numerical results, if to set up minimum Robeco Total Sustainability Rank Envoronmental score to 50 the portfolio remains unchanged both in case of minimal variance, target volatility=0.1 and target risk return=0.6. That means that our portfolio without any environmental constraint is already at least \"Half environmentally friendly\" (50 is half of 100)."
   ]
  },
  {
   "cell_type": "markdown",
   "metadata": {},
   "source": [
    "# When we rise environmental score limit:\n",
    "# a)Target volatility 0.1: Sharpe ratio drops, expected return drops\n",
    "# b)Expected return=0.6: Sharpe ratio drops, expected volatility increases\n",
    "# c) Minimum volatility: minimum volatility for the portfoio with envirinmental restriction is higher comparing to unrestricted portfolio"
   ]
  },
  {
   "cell_type": "code",
   "execution_count": null,
   "metadata": {},
   "outputs": [],
   "source": []
  }
 ],
 "metadata": {
  "kernelspec": {
   "display_name": "Python 3 (ipykernel)",
   "language": "python",
   "name": "python3"
  },
  "language_info": {
   "codemirror_mode": {
    "name": "ipython",
    "version": 3
   },
   "file_extension": ".py",
   "mimetype": "text/x-python",
   "name": "python",
   "nbconvert_exporter": "python",
   "pygments_lexer": "ipython3",
   "version": "3.12.0"
  }
 },
 "nbformat": 4,
 "nbformat_minor": 4
}
